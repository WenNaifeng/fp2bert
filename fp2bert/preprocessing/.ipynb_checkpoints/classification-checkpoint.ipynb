{
 "cells": [
  {
   "cell_type": "code",
   "execution_count": 4,
   "metadata": {},
   "outputs": [
    {
     "name": "stderr",
     "output_type": "stream",
     "text": [
      "Setting 'max_len_single_sentence' is now deprecated. This value is automatically set up.\n",
      "Setting 'max_len_sentences_pair' is now deprecated. This value is automatically set up.\n"
     ]
    }
   ],
   "source": [
    "from my_tokenizers2 import SmilesTokenizer\n",
    "import numpy as np\n",
    "import torch\n",
    "tokenizer = SmilesTokenizer(vocab_file ='mol2vec_vocabs.txt')\n"
   ]
  },
  {
   "cell_type": "code",
   "execution_count": 5,
   "metadata": {},
   "outputs": [],
   "source": [
    "from transformers import ElectraModel, ElectraConfig,ElectraForPreTraining,ElectraForMaskedLM\n",
    "emb_dim = 256\n",
    "output_dir=\"fingerprints_smile_output\"+str(emb_dim)\n",
    "electra_model = ElectraForMaskedLM.from_pretrained(output_dir)"
   ]
  },
  {
   "cell_type": "code",
   "execution_count": 6,
   "metadata": {},
   "outputs": [],
   "source": [
    "import numpy as np\n",
    "\n",
    "trfile = open('../original-dataset/classification/HIV-remove-other-columes.csv', 'r')\n",
    "line = trfile.readline()\n",
    "dataX = []\n",
    "dataY = []\n",
    "all_smiles=[]\n",
    "\n",
    "for line in trfile:\n",
    "    line = line.rstrip().split(',')\n",
    "    target = []\n",
    "    \n",
    "    label = int(line[0])\n",
    "    if label == 1:\n",
    "        target = [1,0]\n",
    "    elif label == 0:\n",
    "        target = [0,1]\n",
    "\n",
    "    dataY.append(target)\n",
    "    \n",
    "    smiles = str(line[1])\n",
    "    all_smiles.append(smiles)"
   ]
  },
  {
   "cell_type": "code",
   "execution_count": 7,
   "metadata": {},
   "outputs": [
    {
     "name": "stdout",
     "output_type": "stream",
     "text": [
      "41127\n",
      "41127\n"
     ]
    }
   ],
   "source": [
    "#before removing duplications\n",
    "print(len(all_smiles))\n",
    "print(len(dataY))"
   ]
  },
  {
   "cell_type": "code",
   "execution_count": 8,
   "metadata": {},
   "outputs": [],
   "source": [
    "from collections import Counter, defaultdict\n",
    "def duplicates(lst):\n",
    "    cnt= Counter(lst)\n",
    "    return [key for key in cnt.keys() if cnt[key]> 1]\n",
    "dups = duplicates(all_smiles)"
   ]
  },
  {
   "cell_type": "code",
   "execution_count": 9,
   "metadata": {},
   "outputs": [
    {
     "name": "stdout",
     "output_type": "stream",
     "text": [
      "0\n"
     ]
    }
   ],
   "source": [
    "print(len(dups))"
   ]
  },
  {
   "cell_type": "code",
   "execution_count": 11,
   "metadata": {},
   "outputs": [
    {
     "name": "stdout",
     "output_type": "stream",
     "text": [
      "41127\n",
      "41127\n"
     ]
    }
   ],
   "source": [
    "#after removing duplications\n",
    "print(len(newSm))\n",
    "print(len(newY))"
   ]
  },
  {
   "cell_type": "code",
   "execution_count": 9,
   "metadata": {},
   "outputs": [
    {
     "name": "stderr",
     "output_type": "stream",
     "text": [
      "Traceback (most recent call last):\n",
      "  File \"/home/master/2019/zhangjie/miniconda3/envs/py36/lib/python3.6/site-packages/rdkit/Chem/PandasTools.py\", line 131, in <module>\n",
      "    if 'display.width' in pd.core.config._registered_options:\n",
      "AttributeError: module 'pandas.core' has no attribute 'config'\n",
      "/home/master/2019/zhangjie/miniconda3/envs/py36/lib/python3.6/site-packages/gensim/similarities/__init__.py:15: UserWarning: The gensim.similarities.levenshtein submodule is disabled, because the optional Levenshtein package <https://pypi.org/project/python-Levenshtein/> is unavailable. Install Levenhstein (e.g. `pip install python-Levenshtein`) to suppress this warning.\n",
      "  warnings.warn(msg)\n",
      "100%|██████████| 41127/41127 [19:04<00:00, 35.92it/s]\n"
     ]
    }
   ],
   "source": [
    "from tqdm import tqdm\n",
    "from rdkit import Chem\n",
    "from mol2vec.features import mol2alt_sentence\n",
    "\n",
    "embX = []\n",
    "MAX_SMI_LEN = 256\n",
    "\n",
    "for item in tqdm(newSm):\n",
    "    \n",
    "    smiles = item\n",
    "    aas = Chem.MolFromSmiles(item) \n",
    "    sentence = mol2alt_sentence(aas, 1)\n",
    "    sentence = ' '.join(map(str, sentence)) \n",
    "\n",
    "    input_ids = tokenizer(sentence, return_tensors=\"pt\")[\"input_ids\"]\n",
    "    if len(input_ids[0]) > MAX_SMI_LEN:\n",
    "        input_ids = input_ids[:, :MAX_SMI_LEN]\n",
    "        input_ids[:, 255:256] = 3 \n",
    "        \n",
    "    outputs = electra_model(input_ids, labels=input_ids)\n",
    "\n",
    "    embX.append(outputs[2][0].detach().numpy()[0][1:-1])    "
   ]
  },
  {
   "cell_type": "code",
   "execution_count": 11,
   "metadata": {},
   "outputs": [
    {
     "name": "stderr",
     "output_type": "stream",
     "text": [
      "/home/master/2019/zhangjie/miniconda3/envs/py36/lib/python3.6/site-packages/numpy/core/_asarray.py:136: VisibleDeprecationWarning: Creating an ndarray from ragged nested sequences (which is a list-or-tuple of lists-or-tuples-or ndarrays with different lengths or shapes) is deprecated. If you meant to do this, you must specify 'dtype=object' when creating the ndarray\n",
      "  return array(a, dtype, copy=False, order=order, subok=True)\n"
     ]
    }
   ],
   "source": [
    "np.save('../encoded-dataset-by-molbert-256-vocab-size-84/classification/scaffold_splitter/HIV_BertFeature_41127_MAX-SMI-256', embX)"
   ]
  },
  {
   "cell_type": "code",
   "execution_count": null,
   "metadata": {},
   "outputs": [],
   "source": []
  }
 ],
 "metadata": {
  "kernelspec": {
   "display_name": "Python 3",
   "language": "python",
   "name": "python3"
  },
  "language_info": {
   "codemirror_mode": {
    "name": "ipython",
    "version": 3
   },
   "file_extension": ".py",
   "mimetype": "text/x-python",
   "name": "python",
   "nbconvert_exporter": "python",
   "pygments_lexer": "ipython3",
   "version": "3.6.12"
  }
 },
 "nbformat": 4,
 "nbformat_minor": 2
}
