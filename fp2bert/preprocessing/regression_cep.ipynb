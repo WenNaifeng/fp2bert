{
 "cells": [
  {
   "cell_type": "code",
   "execution_count": 21,
   "metadata": {},
   "outputs": [
    {
     "name": "stderr",
     "output_type": "stream",
     "text": [
      "Setting 'max_len_single_sentence' is now deprecated. This value is automatically set up.\n",
      "Setting 'max_len_sentences_pair' is now deprecated. This value is automatically set up.\n"
     ]
    }
   ],
   "source": [
    "from my_tokenizers2 import SmilesTokenizer\n",
    "import numpy as np\n",
    "import torch\n",
    "tokenizer = SmilesTokenizer(vocab_file ='mol2vec_vocabs.txt')\n"
   ]
  },
  {
   "cell_type": "code",
   "execution_count": 22,
   "metadata": {},
   "outputs": [],
   "source": [
    "from transformers import ElectraModel, ElectraConfig,ElectraForPreTraining,ElectraForMaskedLM\n",
    "emb_dim = 256\n",
    "output_dir=\"./fingerprints_smile_output256/full\"\n",
    "electra_model = ElectraForMaskedLM.from_pretrained(output_dir)"
   ]
  },
  {
   "cell_type": "code",
   "execution_count": 23,
   "metadata": {},
   "outputs": [],
   "source": [
    "import numpy as np\n",
    "import csv \n",
    "trfile = open('../original-dataset/regression/Cep-Duvenaud.csv', 'r')\n",
    "reader = csv.reader(trfile)\n",
    "next(reader)\n",
    "smiles,dataY,all_smiles = [], [], []\n",
    "for raw in reader:\n",
    "    # print(raw)\n",
    "    dataY.append(float(raw[-1]))\n",
    "    smiles = str(raw[-2])\n",
    "    all_smiles.append(smiles)\n",
    "\n",
    "\n",
    "    "
   ]
  },
  {
   "cell_type": "code",
   "execution_count": 24,
   "metadata": {},
   "outputs": [
    {
     "name": "stdout",
     "output_type": "stream",
     "text": [
      "29978\n",
      "29978\n"
     ]
    }
   ],
   "source": [
    "#before removing duplications\n",
    "print(len(all_smiles))\n",
    "print(len(dataY))"
   ]
  },
  {
   "cell_type": "code",
   "execution_count": 25,
   "metadata": {},
   "outputs": [],
   "source": [
    "from collections import Counter, defaultdict\n",
    "def duplicates(lst):\n",
    "    cnt= Counter(lst)\n",
    "    return [key for key in cnt.keys() if cnt[key]> 1]\n",
    "dups = duplicates(all_smiles)\n"
   ]
  },
  {
   "cell_type": "code",
   "execution_count": 26,
   "metadata": {},
   "outputs": [
    {
     "name": "stdout",
     "output_type": "stream",
     "text": [
      "0\n"
     ]
    }
   ],
   "source": [
    "print(len(dups))"
   ]
  },
  {
   "cell_type": "code",
   "execution_count": 27,
   "metadata": {},
   "outputs": [],
   "source": [
    "newY = []\n",
    "newSm = []\n",
    "\n",
    "\"\"\"\n",
    "for i,x in enumerate(all_smiles):\n",
    "    if x not in dups:\n",
    "        newY.append(dataY[i])\n",
    "        newSm.append(x)\n",
    "\"\"\"\n",
    "for i,x in enumerate(all_smiles):\n",
    "    newY.append(dataY[i])\n",
    "    newSm.append(x)"
   ]
  },
  {
   "cell_type": "code",
   "execution_count": 28,
   "metadata": {},
   "outputs": [
    {
     "name": "stdout",
     "output_type": "stream",
     "text": [
      "29978\n",
      "29978\n"
     ]
    }
   ],
   "source": [
    "#after removing duplications\n",
    "print(len(newSm))\n",
    "print(len(newY))"
   ]
  },
  {
   "cell_type": "code",
   "execution_count": 29,
   "metadata": {},
   "outputs": [
    {
     "name": "stderr",
     "output_type": "stream",
     "text": [
      "100%|███████████████████████████████████████████████████████████████████████████████████████████████████████████████████████████████████████████████████████████████████████████████████████| 29978/29978 [24:40<00:00, 20.25it/s]\n"
     ]
    }
   ],
   "source": [
    "from tqdm import tqdm\n",
    "from rdkit import Chem\n",
    "from mol2vec.features import mol2alt_sentence\n",
    "\n",
    "#smiles_seqs_emb = {}\n",
    "#smiles_aug_dict = {}\n",
    "\n",
    "embX = []\n",
    "MAX_SMI_LEN = 256\n",
    "\n",
    "for item in tqdm(newSm):\n",
    "    \n",
    "    smiles = item\n",
    "    aas = Chem.MolFromSmiles(item) \n",
    "    sentence = mol2alt_sentence(aas, 1)\n",
    "    sentence = ' '.join(map(str, sentence)) \n",
    "    # 替换\n",
    "#     if len(item) > MAX_SMI_LEN:\n",
    "#         input_ids = tokenizer(sentence[:MAX_SMI_LEN], return_tensors=\"pt\")[\"input_ids\"]\n",
    "#     else:\n",
    "#         input_ids = tokenizer(sentence, return_tensors=\"pt\")[\"input_ids\"]\n",
    "    input_ids = tokenizer(sentence, return_tensors=\"pt\")[\"input_ids\"]\n",
    "    if len(input_ids[0]) > MAX_SMI_LEN:\n",
    "        print(smiles)\n",
    "        input_ids = input_ids[:, :MAX_SMI_LEN]\n",
    "        input_ids[:,255:256] = 3\n",
    "\n",
    "    outputs = electra_model(input_ids, labels=input_ids)\n",
    "    #smiles_seqs_emb[smiles] = outputs[2][0].detach().numpy()[0][1:-1]\n",
    "    embX.append(outputs[2][0].detach().numpy()[0][1:-1])\n",
    "#         if item not in smiles_aug_dict.keys():\n",
    "#             smiles_aug_dict[item] = smiles\n",
    "#         else:\n",
    "#             smiles_aug_dict[item] =smiles_aug_dict[item] +';'+ smiles\n",
    "#embX[0].shape            \n",
    "        \n",
    "\n",
    "        \n",
    "        "
   ]
  },
  {
   "cell_type": "code",
   "execution_count": 31,
   "metadata": {},
   "outputs": [],
   "source": [
    "np.save('../encoded-dataset/regression/Cep_embX_fullBERT', embX)\n",
    "np.save('../encoded-dataset/regression/Cep_Y_fullBERT', newY)"
   ]
  },
  {
   "cell_type": "code",
   "execution_count": null,
   "metadata": {},
   "outputs": [],
   "source": []
  }
 ],
 "metadata": {
  "kernelspec": {
   "display_name": "Python 3",
   "language": "python",
   "name": "python3"
  },
  "language_info": {
   "codemirror_mode": {
    "name": "ipython",
    "version": 3
   },
   "file_extension": ".py",
   "mimetype": "text/x-python",
   "name": "python",
   "nbconvert_exporter": "python",
   "pygments_lexer": "ipython3",
   "version": "3.6.12"
  }
 },
 "nbformat": 4,
 "nbformat_minor": 2
}
