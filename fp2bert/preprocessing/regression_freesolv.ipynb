{
 "cells": [
  {
   "cell_type": "code",
   "execution_count": 11,
   "metadata": {},
   "outputs": [
    {
     "name": "stderr",
     "output_type": "stream",
     "text": [
      "Setting 'max_len_single_sentence' is now deprecated. This value is automatically set up.\n",
      "Setting 'max_len_sentences_pair' is now deprecated. This value is automatically set up.\n"
     ]
    }
   ],
   "source": [
    "from my_tokenizers2 import SmilesTokenizer\n",
    "import numpy as np\n",
    "import torch\n",
    "tokenizer = SmilesTokenizer(vocab_file ='mol2vec_vocabs.txt')\n"
   ]
  },
  {
   "cell_type": "code",
   "execution_count": 12,
   "metadata": {},
   "outputs": [],
   "source": [
    "from transformers import ElectraModel, ElectraConfig,ElectraForPreTraining,ElectraForMaskedLM\n",
    "emb_dim = 256\n",
    "output_dir=\"./fingerprints_smile_output256/full\"\n",
    "electra_model = ElectraForMaskedLM.from_pretrained(output_dir)"
   ]
  },
  {
   "cell_type": "code",
   "execution_count": 13,
   "metadata": {},
   "outputs": [],
   "source": [
    "import numpy as np\n",
    "import csv \n",
    "trfile = open('../original-dataset/regression/FreeSolv-remove-other-columes.csv', 'r')\n",
    "reader = csv.reader(trfile)\n",
    "next(reader)\n",
    "smiles,dataY,all_smiles = [], [], []\n",
    "for raw in reader:\n",
    "    # print(raw)\n",
    "    dataY.append(float(raw[-2]))\n",
    "    smiles = str(raw[-1])\n",
    "    all_smiles.append(smiles)\n",
    "\n",
    "\n",
    "    "
   ]
  },
  {
   "cell_type": "code",
   "execution_count": 14,
   "metadata": {},
   "outputs": [
    {
     "name": "stdout",
     "output_type": "stream",
     "text": [
      "642\n",
      "642\n"
     ]
    }
   ],
   "source": [
    "#before removing duplications\n",
    "print(len(all_smiles))\n",
    "print(len(dataY))"
   ]
  },
  {
   "cell_type": "code",
   "execution_count": 15,
   "metadata": {},
   "outputs": [],
   "source": [
    "from collections import Counter, defaultdict\n",
    "def duplicates(lst):\n",
    "    cnt= Counter(lst)\n",
    "    return [key for key in cnt.keys() if cnt[key]> 1]\n",
    "dups = duplicates(all_smiles)\n"
   ]
  },
  {
   "cell_type": "code",
   "execution_count": 16,
   "metadata": {},
   "outputs": [
    {
     "name": "stdout",
     "output_type": "stream",
     "text": [
      "0\n"
     ]
    }
   ],
   "source": [
    "print(len(dups))"
   ]
  },
  {
   "cell_type": "code",
   "execution_count": 17,
   "metadata": {},
   "outputs": [],
   "source": [
    "newY = []\n",
    "newSm = []\n",
    "for i,x in enumerate(all_smiles):\n",
    "    newY.append(dataY[i])\n",
    "    newSm.append(x)"
   ]
  },
  {
   "cell_type": "code",
   "execution_count": 18,
   "metadata": {},
   "outputs": [
    {
     "name": "stdout",
     "output_type": "stream",
     "text": [
      "642\n",
      "642\n"
     ]
    }
   ],
   "source": [
    "#after removing duplications\n",
    "print(len(newSm))\n",
    "print(len(newY))"
   ]
  },
  {
   "cell_type": "code",
   "execution_count": 19,
   "metadata": {},
   "outputs": [
    {
     "name": "stderr",
     "output_type": "stream",
     "text": [
      "100%|███████████████████████████████████████████████████████████████████████████████████████████████████████████████████████████████████████████████████████████████████████████████████████████| 642/642 [00:12<00:00, 50.47it/s]\n"
     ]
    }
   ],
   "source": [
    "from tqdm import tqdm\n",
    "from rdkit import Chem\n",
    "from mol2vec.features import mol2alt_sentence\n",
    "\n",
    "#smiles_seqs_emb = {}\n",
    "#smiles_aug_dict = {}\n",
    "\n",
    "embX = []\n",
    "MAX_SMI_LEN = 256\n",
    "\n",
    "for item in tqdm(newSm):\n",
    "    \n",
    "    smiles = item\n",
    "    aas = Chem.MolFromSmiles(item) \n",
    "    sentence = mol2alt_sentence(aas, 1)\n",
    "    sentence = ' '.join(map(str, sentence)) \n",
    "    input_ids = tokenizer(sentence, return_tensors=\"pt\")[\"input_ids\"]\n",
    "    if len(input_ids[0]) > MAX_SMI_LEN:\n",
    "        print(smiles)\n",
    "        input_ids = input_ids[:, :MAX_SMI_LEN]\n",
    "        input_ids[:,255:256] = 3\n",
    "\n",
    "    outputs = electra_model(input_ids, labels=input_ids)\n",
    "    embX.append(outputs[2][0].detach().numpy()[0][1:-1])\n",
    "\n",
    "        \n",
    "        "
   ]
  },
  {
   "cell_type": "code",
   "execution_count": 20,
   "metadata": {},
   "outputs": [],
   "source": [
    "np.save('../encoded-dataset/regression/FreeSolv_embX_fullBERT', embX)\n",
    "np.save('../encoded-dataset/regression/FreeSolv_Y_fullBERT', newY)"
   ]
  },
  {
   "cell_type": "code",
   "execution_count": null,
   "metadata": {},
   "outputs": [],
   "source": []
  }
 ],
 "metadata": {
  "kernelspec": {
   "display_name": "Python 3",
   "language": "python",
   "name": "python3"
  },
  "language_info": {
   "codemirror_mode": {
    "name": "ipython",
    "version": 3
   },
   "file_extension": ".py",
   "mimetype": "text/x-python",
   "name": "python",
   "nbconvert_exporter": "python",
   "pygments_lexer": "ipython3",
   "version": "3.6.12"
  }
 },
 "nbformat": 4,
 "nbformat_minor": 2
}
